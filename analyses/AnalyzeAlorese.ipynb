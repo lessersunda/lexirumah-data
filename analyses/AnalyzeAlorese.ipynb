{
 "cells": [
  {
   "cell_type": "markdown",
   "metadata": {},
   "source": [
    "# Lexical particularities of Alorese\n",
    "\n",
    "This notebook shows how to use LexiRumah to investigate the lexical differences between\n",
    "two groups of languages in LexiRumah. As example, compare the lexicon of Alorese lects ([alor1247](http://glottolog.org/resource/languoid/id/alor1247)) with the lexicon of all other lects of Lamaholot ([lama1292](http://glottolog.org/resource/languoid/id/lama1292)) lects."
   ]
  },
  {
   "cell_type": "markdown",
   "metadata": {},
   "source": [
    "First we import a variety of necessary modules and define constants."
   ]
  },
  {
   "cell_type": "code",
   "execution_count": 1,
   "metadata": {},
   "outputs": [],
   "source": [
    "# Import generally useful modules\n",
    "%matplotlib inline\n",
    "from matplotlib import pyplot\n",
    "import numpy\n",
    "import itertools\n",
    "from bisect import bisect\n",
    "from collections import defaultdict, OrderedDict"
   ]
  },
  {
   "cell_type": "code",
   "execution_count": 2,
   "metadata": {},
   "outputs": [],
   "source": [
    "# Import pylexirumah and related objects\n",
    "from clldutils.path import Path\n",
    "import pylexirumah\n",
    "from pylexirumah.util import glottolog_clade, get_dataset, lexirumah_glottocodes\n",
    "\n",
    "# Load the LexiRumah database\n",
    "lexirumah = get_dataset()"
   ]
  },
  {
   "cell_type": "markdown",
   "metadata": {},
   "source": [
    "We define the language groups: `alorese` will be all alorese lects in LexiRumah, `lamaholot` will contain all sedentary Lamaholot lects (spoken on Solor, Flores, Lembata etc., but not the Alorese lects of Alor and Pantar). In order to check for inheritance and cross-family borrowings, we define `an` and `tap` to be the groups of all other lects in the database, by family."
   ]
  },
  {
   "cell_type": "code",
   "execution_count": 3,
   "metadata": {
    "scrolled": true
   },
   "outputs": [
    {
     "name": "stdout",
     "output_type": "stream",
     "text": [
      "set()\n",
      "{'lama1277-lewuk', 'alor1247-baran', 'lama1277-lewom', 'alor1247-munas', 'alor1247-pandai', 'lama1277-pukau', 'lama1277-ritae', 'lama1277-imulo', 'lama1277-belan', 'lama1277-kiwan', 'lama1277-lewoe', 'lama1277-merde', 'lama1277-lamat', 'lama1277-horow', 'lama1277-waiwa', 'lama1277-minga', 'lama1277-adona', 'lama1277-lerek', 'lama1277-lewog', 'lama1277-mulan', 'lama1277-paina', 'lama1277-dulhi', 'alor1247-besar', 'lama1277-lewoi', 'lama1277-lamah', 'lama1277-lewop', 'lama1277-tanju', 'lama1277-botun', 'lama1277-ileap', 'lama1277-bama', 'lama1277-lewot', 'lama1277-baipi', 'lama1277-lewok', 'lama1277-kalik', 'lama1277-lamak', 'lama1277-waiba', 'lama1277-lamal', 'lama1277-watan', 'lama1277-wuake', 'lama1277-lewob'}\n"
     ]
    }
   ],
   "source": [
    "# This may take some time, our implementation of `glottolog_clade` is not built for speed.\n",
    "\n",
    "alorese = glottolog_clade(\"alor1247\")\n",
    "print(alorese)\n",
    "\n",
    "lamaholot = glottolog_clade(\"lama1292\") - alorese\n",
    "print(lamaholot)\n",
    "\n",
    "floreslembata = glottolog_clade(\"flor1239\") - alorese - lamaholot\n",
    "\n",
    "an = glottolog_clade(\"aust1307\") - alorese - lamaholot - floreslembata\n",
    "tap = glottolog_clade(\"timo1261\")\n",
    "\n",
    "rest = set(lexirumah_glottocodes()) - alorese - lamaholot - floreslembata - an - tap\n",
    "\n",
    "groups = [alorese, lamaholot, floreslembata, an, tap]"
   ]
  },
  {
   "cell_type": "markdown",
   "metadata": {},
   "source": [
    "The LexiRumah database contains a `CognateTable`, which associates forms with cognate classes. In principle, different sources can assign one form to different classes. This is not the case at the moment where all forms are automatically generated. Going forwards, it will be a useful assumption that the newer cognate judgements occur later in the file, which is the semantics the by the following code block takes into account.\n",
    "\n",
    "Explicitly prioritizing or ignoring a specific source can still be done by adding a filtering `if` statement to the following `for` loop."
   ]
  },
  {
   "cell_type": "code",
   "execution_count": 4,
   "metadata": {},
   "outputs": [],
   "source": [
    "# Aggregate cognate data from the Form and Cognate table.\n",
    "\n",
    "# First, load the relevant content of the CognateTable into memory as dictionary.\n",
    "cognateclass_by_form = {}\n",
    "for cognate in lexirumah[\"CognateTable\"].iterdicts():\n",
    "    cognateclass_by_form[cognate[\"Form_ID\"]] = cognate[\"Cognateset_ID\"]\n",
    "\n",
    "# Then, generate a sequence of all cognate classes, storing associations from the\n",
    "# cognate class ID to the set of (concept, lect, form) tuples representing all forms\n",
    "# belonging to that class.\n",
    "cognates_by_class = {}\n",
    "for form in lexirumah[\"FormTable\"].iterdicts():\n",
    "    concept = form[\"Concept_ID\"]\n",
    "    lect = form[\"Lect_ID\"]\n",
    "    cognates_by_class.setdefault(\n",
    "        cognateclass_by_form.get(form[\"ID\"]), set()).add(\n",
    "        (concept, lect, form[\"Form\"]))"
   ]
  },
  {
   "cell_type": "markdown",
   "metadata": {},
   "source": [
    "In order to compare the lexical material of the two language groups, we now check what cognate classes are attested in which of the language groups. For now, all cognate sets in LexiRumah are restricted to one concept each, which simplifies the following calculation and interpretation."
   ]
  },
  {
   "cell_type": "code",
   "execution_count": 5,
   "metadata": {},
   "outputs": [],
   "source": [
    "# attested_cognate_sets is a dictionary, which associates concepts to a list of sets.\n",
    "# The list contains one set for each language group defined above, and the set is a\n",
    "# set of all cognate set IDs that express that concept in at least one lect of that\n",
    "# group.\n",
    "attested_cognate_sets = defaultdict(lambda: [set() for g_ in groups])\n",
    "for name, cognates in cognates_by_class.items():\n",
    "    lects = {lect for (concept, lect, form) in cognates}\n",
    "    concept, _, _ = next(iter(cognates))\n",
    "    \n",
    "    for g, group in enumerate(groups):\n",
    "        if lects & group:\n",
    "            attested_cognate_sets[concept][g].add(name)"
   ]
  },
  {
   "cell_type": "markdown",
   "metadata": {},
   "source": [
    "Now we can compare the lexicon. Starting with the most ‘stable’ concepts (we don't have a direct measure of stability, but we can assume that concepts with fewer cognate classes are more stable), we list those concepts where Alorese and Lamaholot have different cognate classes."
   ]
  },
  {
   "cell_type": "code",
   "execution_count": 6,
   "metadata": {},
   "outputs": [],
   "source": [
    "# Sort concepts by stability, by running an insertion sort with the help of bisect.\n",
    "concepts = []\n",
    "concept_stability = []\n",
    "for concept, concept_classes in attested_cognate_sets.items():\n",
    "    order = len(\n",
    "        set.union(*concept_classes))\n",
    "    i = bisect(concept_stability, order)\n",
    "    concepts.insert(i, concept)\n",
    "    concept_stability.insert(i, order)\n",
    "# concepts is now a list of concept IDs, in order of stability.\n",
    "\n",
    "cognateset_pattern_counts = numpy.zeros((2,) * len(groups) + (len(concepts),))\n",
    "\n",
    "# Count the number of cognate classes for each pattern.\n",
    "for c, concept in enumerate(concepts):\n",
    "    attested_in_groups = attested_cognate_sets[concept]\n",
    "\n",
    "    for pattern in itertools.product([0, 1], repeat=len(groups)):\n",
    "        cognate_classes_for_pattern = set.union(*attested_in_groups)\n",
    "        for present, classes in zip(pattern, attested_in_groups):\n",
    "            if present:\n",
    "                cognate_classes_for_pattern &= classes\n",
    "            else:\n",
    "                cognate_classes_for_pattern -= classes\n",
    "        \n",
    "        cognateset_pattern_counts[pattern][c] = len(cognate_classes_for_pattern)"
   ]
  },
  {
   "cell_type": "markdown",
   "metadata": {},
   "source": [
    "# Genome-style plots\n",
    "\n",
    "Every vertical line in the following bar plots corresponds to a concept; stable concepts on the left, unstable concepts on the right. Inside each bar, different types of cognate classes are plotted – every cognate class attested in that group is plotted with the same percentage, with colors corresponding to the apparent origin of the form."
   ]
  },
  {
   "cell_type": "code",
   "execution_count": 7,
   "metadata": {},
   "outputs": [],
   "source": [
    "def genomestyle(group_index=None, order=None):\n",
    "    # Prepare the figure\n",
    "    pyplot.gcf().set_size_inches((14, 3))\n",
    "    #pyplot.axis('off')\n",
    "    #pyplot.gca().get_xaxis().set_visible(False)\n",
    "    #pyplot.gca().get_yaxis().set_visible(False)\n",
    "\n",
    "    # Only count cognate classes present in group `group_index` – set all counts where\n",
    "    # `group_index` is absent to 0.\n",
    "    counts = cognateset_pattern_counts.copy()\n",
    "    if group_index is not None:\n",
    "        counts.swapaxes(group_index, 0)[0] = 0\n",
    "\n",
    "    # Where `normalize` is 0, no forms for that concept are given. Ignore.\n",
    "    b = numpy.zeros((len(concepts), len(colorize)))\n",
    "    \n",
    "    for c, (color, cells) in enumerate(colorize.items()):\n",
    "        bar_height = 0\n",
    "        for cell in cells:\n",
    "            bar_height = counts[cell] + bar_height\n",
    "        b[:, c] = bar_height\n",
    "\n",
    "    # This complex expression sorts the bars as we want them, but keeps the data\n",
    "    # structure an array for easier calculations.\n",
    "    order = order or sorted(\n",
    "        range(len(b)),\n",
    "        key=lambda x: tuple(\n",
    "            sum(b[x][n:]) for n in range(len(b[x]))))\n",
    "    sorted_bars = b[order]\n",
    "\n",
    "    bottom = 0\n",
    "    for color, bars in zip(colorize, sorted_bars.T):\n",
    "        pyplot.bar(\n",
    "            range(len(bars)),\n",
    "            bars,\n",
    "            1.0,\n",
    "            bottom = bottom,\n",
    "            color = color)\n",
    "        bottom = bottom + bars\n",
    "    \n",
    "    pyplot.xlabel(\"Concept\")\n",
    "    pyplot.ylabel(\"Number of classes\")\n",
    "    return order"
   ]
  },
  {
   "cell_type": "code",
   "execution_count": 8,
   "metadata": {},
   "outputs": [],
   "source": [
    "colorize = OrderedDict()"
   ]
  },
  {
   "cell_type": "markdown",
   "metadata": {},
   "source": [
    "Some cognate classes are present in Alorese and other AN languages (including the provided reconstructions of pMP and pAN). If they follow the hierarchy (see below), we give them all the same orange color. (In addition, this color is given to all hierarchically inherited forms that did not make it into Alorese, but this is only for completion's sake.)\n",
    "\n",
    "That is, all similarity classes found in every group for one of the following diagrams is colored orange.\n",
    "\n",
    "    (TAP < ) AN       (TAP < ) AN                 (TAP < ) AN             (TAP < ) AN\n",
    "                                \\                           \\                       \\\n",
    "                 FL             FL     FL                   FL        FL            FL\n",
    "                                        \\                    \\         \\             \\\n",
    "                    LH                  LH      LH           LH        LH            LH\n",
    "                                                 \\                      \\             \\\n",
    "                                                 AL                     AL            AL\n",
    "\n"
   ]
  },
  {
   "cell_type": "markdown",
   "metadata": {},
   "source": [
    "As an exception from that hierarchical inheritance color, Forms found in Alorese which are judged dissimilar to any other forms get the color purple marking them as “Alorese-specific”."
   ]
  },
  {
   "cell_type": "code",
   "execution_count": 9,
   "metadata": {},
   "outputs": [],
   "source": [
    "# Hierarchical inheritance\n",
    "colorize[(1, 0.7, 0.2)] = [\n",
    "    (1, 1, 1, 1, 1),\n",
    "    (0, 1, 1, 1, 1),\n",
    "    (0, 0, 1, 1, 1),\n",
    "    (0, 0, 0, 1, 1),\n",
    "    (1, 1, 1, 1, 0),\n",
    "    (0, 1, 1, 1, 0),\n",
    "    (0, 0, 1, 1, 0),\n",
    "    (0, 0, 0, 1, 0),\n",
    "    (1, 1, 1, 0, 0),\n",
    "    (0, 1, 1, 0, 0), \n",
    "    (0, 0, 1, 0, 0),\n",
    "    (1, 1, 0, 0, 0),\n",
    "    (0, 1, 0, 0, 0)]"
   ]
  },
  {
   "cell_type": "markdown",
   "metadata": {},
   "source": [
    "Similarity classes that are found in TAP, and outside TAP only in Alorese, are a priori easily explained as TAP loans, so they will all be colored green. (In the complete listing, that color is also chosen for all classes found in TAP, but not outside that family.)"
   ]
  },
  {
   "cell_type": "code",
   "execution_count": 10,
   "metadata": {},
   "outputs": [],
   "source": [
    "# TAP forms\n",
    "colorize[(0.0, 0.8, 0.0)] = [\n",
    "     (1, 0, 0, 0, 1),\n",
    "     (0, 0, 0, 0, 1)]\n",
    "        "
   ]
  },
  {
   "cell_type": "markdown",
   "metadata": {},
   "source": [
    "If a cognate class is attested in Alorese and other Flores-Lembata languages, but not in any Lamaholot dialect, that is slightly unexpected under the hypothesis that Alorese is a daughter, not a sister, of Lamaholot. We color those similarity classes in yellow.\n",
    "\n",
    "Similarly, we assign the same yellow color to all classes that have an unexpected distribution. This includes\n",
    " 1. All forms that “skipped” a clade in the inhertance hierarchy, eg. similarity classes found in AN, Alorese, and other Flores-Lembata languages, but not in any Lamaholot dialect;\n",
    " 2. Similarity classes found in Timor-Alor-Pantar languages, but which in the Austronesian languages are found only in the wider Flores-Lembata languages.\n",
    " "
   ]
  },
  {
   "cell_type": "code",
   "execution_count": 11,
   "metadata": {},
   "outputs": [],
   "source": [
    "# Unexpected distribution\n",
    "colorize[(0.9, 0.9, 0.0)] = [\n",
    "    (1, 0, 1, 1, 1),\n",
    "    (1, 0, 1, 1, 0),\n",
    "    (1, 0, 1, 0, 0),\n",
    "    (1, 0, 0, 1, 1),\n",
    "    (1, 1, 0, 1, 1),\n",
    "    (0, 1, 0, 1, 1), \n",
    "    (1, 0, 0, 1, 0),\n",
    "    (1, 1, 0, 1, 0),\n",
    "    (0, 1, 0, 1, 0),\n",
    "    (1, 1, 1, 0, 1),\n",
    "    (0, 1, 1, 0, 1),\n",
    "    (0, 0, 1, 0, 1),\n",
    "    (1, 1, 0, 0, 1),\n",
    "    (0, 1, 0, 0, 1),\n",
    "    (1, 0, 1, 0, 1)]\n"
   ]
  },
  {
   "cell_type": "code",
   "execution_count": 12,
   "metadata": {},
   "outputs": [],
   "source": [
    "# Alorese forms\n",
    "colorize[(0.8, 0.1, 1.0)] = [\n",
    "    (1, 0, 0, 0, 0)]"
   ]
  },
  {
   "cell_type": "code",
   "execution_count": 13,
   "metadata": {},
   "outputs": [],
   "source": [
    "# This should be all combinations.\n",
    "all_patterns = [(0,) * len(groups)]\n",
    "for patterns in colorize.values():\n",
    "    all_patterns.extend(patterns)\n",
    "for i, j in zip(sorted(all_patterns), sorted(itertools.product([0, 1], repeat=len(groups)))):\n",
    "    if i!=j:\n",
    "        print(\"expected:\", j, \"but found:\", i)"
   ]
  },
  {
   "cell_type": "markdown",
   "metadata": {},
   "source": [
    "# Genome-style plot of the entire database\n",
    "The plots below sort concepts by their local stability. If you want a specific order, eg. order by global stability, you have to calculate that order and pass it to those plotting functions as argument. Here, the output is the distribution of these classes over the entire database."
   ]
  },
  {
   "cell_type": "code",
   "execution_count": 14,
   "metadata": {
    "scrolled": true
   },
   "outputs": [
    {
     "data": {
      "image/png": "[encoded data removed]",
      "text/plain": [
       "<Figure size 1008x216 with 1 Axes>"
      ]
     },
     "metadata": {},
     "output_type": "display_data"
    }
   ],
   "source": [
    "order = genomestyle(None, order=None)"
   ]
  },
  {
   "cell_type": "markdown",
   "metadata": {},
   "source": [
    "## TAP forms"
   ]
  },
  {
   "cell_type": "code",
   "execution_count": 15,
   "metadata": {
    "scrolled": true
   },
   "outputs": [
    {
     "data": {
      "image/png": "[encoded data removed]",
      "text/plain": [
       "<Figure size 1008x216 with 1 Axes>"
      ]
     },
     "metadata": {},
     "output_type": "display_data"
    }
   ],
   "source": [
    "_ = genomestyle(4, order=None)"
   ]
  },
  {
   "cell_type": "markdown",
   "metadata": {},
   "source": [
    "## Alorese forms"
   ]
  },
  {
   "cell_type": "code",
   "execution_count": 16,
   "metadata": {},
   "outputs": [
    {
     "data": {
      "image/png": "[encoded data removed]",
      "text/plain": [
       "<Figure size 1008x216 with 1 Axes>"
      ]
     },
     "metadata": {},
     "output_type": "display_data"
    }
   ],
   "source": [
    "_ = genomestyle(0, order=None)"
   ]
  },
  {
   "cell_type": "code",
   "execution_count": 17,
   "metadata": {
    "scrolled": true
   },
   "outputs": [
    {
     "data": {
      "image/png": "[encoded data removed]",
      "text/plain": [
       "<Figure size 720x360 with 3 Axes>"
      ]
     },
     "metadata": {},
     "output_type": "display_data"
    }
   ],
   "source": [
    "pyplot.subplot2grid((2, 2), (0, 0), colspan=2)\n",
    "\n",
    "_ = genomestyle(0, order=order)\n",
    "\n",
    "concepts_in_order = [concepts[o] for o in order]\n",
    "\n",
    "pyplot.subplot2grid((2, 2), (1, 0))\n",
    "_ = genomestyle(0, order=order)\n",
    "pyplot.xticks(range(len(concepts)), concepts_in_order, rotation='vertical')\n",
    "pyplot.xlim(19.5, 40.5)\n",
    "\n",
    "pyplot.subplot2grid((2, 2), (1, 1))\n",
    "_ = genomestyle(0, order=order)\n",
    "pyplot.xticks(range(len(concepts)), concepts_in_order, rotation='vertical')\n",
    "pyplot.xlim(529.5, 550.5)\n",
    "pyplot.ylabel(\"\")\n",
    "\n",
    "pyplot.gcf().set_size_inches((10, 5))\n",
    "pyplot.subplots_adjust(hspace=0.5)\n",
    "\n",
    "pyplot.savefig(\"Fig7.eps\", format='eps', dpi=600)"
   ]
  },
  {
   "cell_type": "code",
   "execution_count": 18,
   "metadata": {},
   "outputs": [
    {
     "data": {
      "text/plain": [
       "(19.5, 80.5)"
      ]
     },
     "execution_count": 18,
     "metadata": {},
     "output_type": "execute_result"
    },
    {
     "data": {
      "image/png": "[encoded data removed]",
      "text/plain": [
       "<Figure size 1008x216 with 1 Axes>"
      ]
     },
     "metadata": {},
     "output_type": "display_data"
    }
   ],
   "source": [
    "_ = genomestyle(0, order=order)\n",
    "pyplot.xticks(range(len(concepts)), concepts_in_order, rotation='vertical')\n",
    "pyplot.xlim(19.5, 80.5)"
   ]
  },
  {
   "cell_type": "markdown",
   "metadata": {},
   "source": [
    "## Examples: a few of the concepts seen in the figures above"
   ]
  },
  {
   "cell_type": "code",
   "execution_count": 19,
   "metadata": {},
   "outputs": [],
   "source": [
    "for c in attested_cognate_sets[\"lizard\"][0]:\n",
    "    for group, lects in zip((\"AL\", \"LH\", \"FL\", \"AN\", \"TAP\"), groups):\n",
    "        print(group)\n",
    "        for concept, lect, form in cognates_by_class[c]:\n",
    "            if lect in lects:\n",
    "                print(lect, form)\n"
   ]
  },
  {
   "cell_type": "code",
   "execution_count": 20,
   "metadata": {},
   "outputs": [],
   "source": [
    "for c in attested_cognate_sets[\"thirteen\"][0]:\n",
    "    for group, lects in zip((\"AL\", \"LH\", \"FL\", \"AN\", \"TAP\"), groups):\n",
    "        print(group)\n",
    "        for concept, lect, form in cognates_by_class[c]:\n",
    "            if lect in lects:\n",
    "                print(lect, form)\n"
   ]
  },
  {
   "cell_type": "code",
   "execution_count": 21,
   "metadata": {},
   "outputs": [],
   "source": [
    "for c in attested_cognate_sets[\"tongue\"][0]:\n",
    "    for group, lects in zip((\"AL\", \"LH\", \"FL\", \"AN\", \"TAP\"), groups):\n",
    "        print(group)\n",
    "        for concept, lect, form in cognates_by_class[c]:\n",
    "            if lect in lects:\n",
    "                print(lect, form)\n"
   ]
  },
  {
   "cell_type": "code",
   "execution_count": 22,
   "metadata": {},
   "outputs": [],
   "source": [
    "for c in attested_cognate_sets[\"church\"][0]:\n",
    "    for group, lects in zip((\"AL\", \"LH\", \"FL\", \"AN\", \"TAP\"), groups):\n",
    "        print(group)\n",
    "        for concept, lect, form in cognates_by_class[c]:\n",
    "            if lect in lects:\n",
    "                print(lect, form)\n"
   ]
  },
  {
   "cell_type": "code",
   "execution_count": 23,
   "metadata": {},
   "outputs": [
    {
     "name": "stdout",
     "output_type": "stream",
     "text": [
      "\n",
      "For context, the forms in Lamaholot:\n"
     ]
    }
   ],
   "source": [
    "for c in attested_cognate_sets[\"claw\"][0]:\n",
    "    for group, lects in zip((\"AL\", \"LH\", \"FL\", \"AN\", \"TAP\"), groups):\n",
    "        print(group)\n",
    "        for concept, lect, form in cognates_by_class[c]:\n",
    "            if lect in lects:\n",
    "                print(lect, form)\n",
    "    print()\n",
    "\n",
    "print()\n",
    "print(\"For context, the forms in Lamaholot:\")\n",
    "for c in attested_cognate_sets[\"claw\"][1]:\n",
    "    for group, lects in zip((\"AL\", \"LH\", \"FL\", \"AN\", \"TAP\"), groups):\n",
    "        print(group)\n",
    "        for concept, lect, form in cognates_by_class[c]:\n",
    "            if lect in lects:\n",
    "                print(lect, form)"
   ]
  },
  {
   "cell_type": "code",
   "execution_count": 24,
   "metadata": {
    "scrolled": false
   },
   "outputs": [
    {
     "name": "stdout",
     "output_type": "stream",
     "text": [
      "Concept nine is attested only in Lamaholot\n",
      "\n",
      "\n",
      "\n"
     ]
    }
   ],
   "source": [
    "for concept in concepts:\n",
    "    by_group = attested_cognate_sets[concept]\n",
    "    if by_group[0] != by_group[1]:\n",
    "        if by_group[0] and by_group[1]:\n",
    "            fl_skipping_l = (by_group[0] & by_group[2]) - by_group[1]\n",
    "            an_skipping_l = (by_group[0] & by_group[3]) - by_group[1]\n",
    "            skipping = fl_skipping_l | an_skipping_l\n",
    "            a_but_not_l = by_group[0] - by_group[1]\n",
    "            l_skipping_a = by_group[1] - by_group[0]\n",
    "\n",
    "            print(\"Concept ‘{:}’ is different between Alorese and Lamaholot.\".format(\n",
    "                concept))\n",
    "            print()\n",
    "            if (a_but_not_l - skipping) - by_group[4]:\n",
    "                print(\"\", \"Alorese innovated the following forms:\")\n",
    "                for cognateclass in a_but_not_l - skipping:\n",
    "                    print(\"\", cognates_by_class[cognateclass])\n",
    "            if (a_but_not_l - skipping) & by_group[4]:\n",
    "                print(\"\", \"Alorese shares the following forms with TAP languages:\")\n",
    "                for cognateclass in a_but_not_l - skipping:\n",
    "                    print(\"\", cognates_by_class[cognateclass])\n",
    "            if skipping:\n",
    "                print(\"\", \"Alorese shares the following forms with other AN languanges, but not Lamaholot:\")\n",
    "                for cognateclass in skipping:\n",
    "                    print(\"\", cognates_by_class[cognateclass])\n",
    "            if l_skipping_a:\n",
    "                print(\"\", \"One or more Lamaholot dialects innovated forms not found in Alorese:\")\n",
    "                for cognateclass in l_skipping_a:\n",
    "                    print(\"\", cognates_by_class[cognateclass])\n",
    "            if by_group[1] & by_group[0]:\n",
    "                print()\n",
    "                print(\" \", \"Just for clarity:\")\n",
    "                print(\" \", \"There are also the following similarity classes shared between Alorese and LH.\")\n",
    "                for cognateclass in by_group[1] & by_group[0]:\n",
    "                    print(\" \", cognates_by_class[cognateclass])\n",
    "        elif by_group[0]:\n",
    "            print(\"Concept {:} is attested only in Alorese\".format(concept))\n",
    "        elif by_group[1]:\n",
    "            print(\"Concept {:} is attested only in Lamaholot\".format(concept))\n",
    "        print(\"\\n\\n\")\n",
    "        \n"
   ]
  }
 ],
 "metadata": {
  "kernelspec": {
   "display_name": "Python 3",
   "language": "python",
   "name": "python3"
  },
  "language_info": {
   "codemirror_mode": {
    "name": "ipython",
    "version": 3
   },
   "file_extension": ".py",
   "mimetype": "text/x-python",
   "name": "python",
   "nbconvert_exporter": "python",
   "pygments_lexer": "ipython3",
   "version": "3.7.4"
  }
 },
 "nbformat": 4,
 "nbformat_minor": 2
}
